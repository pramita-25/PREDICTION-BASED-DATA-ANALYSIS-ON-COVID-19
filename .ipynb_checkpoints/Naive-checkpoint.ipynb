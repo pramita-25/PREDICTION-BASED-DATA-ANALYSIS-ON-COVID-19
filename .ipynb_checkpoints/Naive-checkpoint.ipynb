{
 "cells": [
  {
   "cell_type": "code",
   "execution_count": 2,
   "metadata": {},
   "outputs": [],
   "source": [
    "import pandas as pd\n",
    "import numpy as np\n",
    "from sklearn.model_selection import train_test_split\n",
    "from sklearn.preprocessing import StandardScaler\n",
    "from sklearn.naive_bayes import GaussianNB\n",
    "from sklearn.metrics import confusion_matrix\n",
    "from sklearn.metrics import f1_score\n",
    "from sklearn.metrics import accuracy_score\n",
    "from sklearn.feature_selection import SelectKBest\n",
    "from sklearn.feature_selection import chi2\n",
    "from sklearn.feature_selection import VarianceThreshold\n",
    "import matplotlib.pyplot as plt\n",
    "import seaborn as sns"
   ]
  },
  {
   "cell_type": "code",
   "execution_count": 5,
   "metadata": {},
   "outputs": [],
   "source": [
    "dataset = pd.read_csv('covid19_patient_data.csv')"
   ]
  },
  {
   "cell_type": "code",
   "execution_count": 6,
   "metadata": {},
   "outputs": [
    {
     "data": {
      "text/html": [
       "<div>\n",
       "<style scoped>\n",
       "    .dataframe tbody tr th:only-of-type {\n",
       "        vertical-align: middle;\n",
       "    }\n",
       "\n",
       "    .dataframe tbody tr th {\n",
       "        vertical-align: top;\n",
       "    }\n",
       "\n",
       "    .dataframe thead th {\n",
       "        text-align: right;\n",
       "    }\n",
       "</style>\n",
       "<table border=\"1\" class=\"dataframe\">\n",
       "  <thead>\n",
       "    <tr style=\"text-align: right;\">\n",
       "      <th></th>\n",
       "      <th>Age</th>\n",
       "      <th>Fever</th>\n",
       "      <th>ThroatInfections</th>\n",
       "      <th>BreathingIssue</th>\n",
       "      <th>BloodPressure</th>\n",
       "      <th>Insulin</th>\n",
       "      <th>BMI</th>\n",
       "      <th>DiabetesPedigreeFunction</th>\n",
       "      <th>Target</th>\n",
       "    </tr>\n",
       "  </thead>\n",
       "  <tbody>\n",
       "    <tr>\n",
       "      <th>0</th>\n",
       "      <td>50</td>\n",
       "      <td>1</td>\n",
       "      <td>0</td>\n",
       "      <td>0</td>\n",
       "      <td>72</td>\n",
       "      <td>0</td>\n",
       "      <td>33.6</td>\n",
       "      <td>0.627</td>\n",
       "      <td>1</td>\n",
       "    </tr>\n",
       "    <tr>\n",
       "      <th>1</th>\n",
       "      <td>31</td>\n",
       "      <td>1</td>\n",
       "      <td>0</td>\n",
       "      <td>0</td>\n",
       "      <td>66</td>\n",
       "      <td>0</td>\n",
       "      <td>26.6</td>\n",
       "      <td>0.351</td>\n",
       "      <td>0</td>\n",
       "    </tr>\n",
       "    <tr>\n",
       "      <th>2</th>\n",
       "      <td>32</td>\n",
       "      <td>0</td>\n",
       "      <td>0</td>\n",
       "      <td>0</td>\n",
       "      <td>64</td>\n",
       "      <td>0</td>\n",
       "      <td>23.3</td>\n",
       "      <td>0.672</td>\n",
       "      <td>0</td>\n",
       "    </tr>\n",
       "    <tr>\n",
       "      <th>3</th>\n",
       "      <td>21</td>\n",
       "      <td>1</td>\n",
       "      <td>1</td>\n",
       "      <td>0</td>\n",
       "      <td>66</td>\n",
       "      <td>94</td>\n",
       "      <td>28.1</td>\n",
       "      <td>0.167</td>\n",
       "      <td>0</td>\n",
       "    </tr>\n",
       "    <tr>\n",
       "      <th>4</th>\n",
       "      <td>33</td>\n",
       "      <td>1</td>\n",
       "      <td>0</td>\n",
       "      <td>0</td>\n",
       "      <td>40</td>\n",
       "      <td>168</td>\n",
       "      <td>43.1</td>\n",
       "      <td>2.288</td>\n",
       "      <td>1</td>\n",
       "    </tr>\n",
       "  </tbody>\n",
       "</table>\n",
       "</div>"
      ],
      "text/plain": [
       "   Age  Fever  ThroatInfections  BreathingIssue  BloodPressure  Insulin   BMI  \\\n",
       "0   50      1                 0               0             72        0  33.6   \n",
       "1   31      1                 0               0             66        0  26.6   \n",
       "2   32      0                 0               0             64        0  23.3   \n",
       "3   21      1                 1               0             66       94  28.1   \n",
       "4   33      1                 0               0             40      168  43.1   \n",
       "\n",
       "   DiabetesPedigreeFunction  Target  \n",
       "0                     0.627       1  \n",
       "1                     0.351       0  \n",
       "2                     0.672       0  \n",
       "3                     0.167       0  \n",
       "4                     2.288       1  "
      ]
     },
     "execution_count": 6,
     "metadata": {},
     "output_type": "execute_result"
    }
   ],
   "source": [
    "dataset.head()"
   ]
  },
  {
   "cell_type": "code",
   "execution_count": 4,
   "metadata": {},
   "outputs": [
    {
     "name": "stdout",
     "output_type": "stream",
     "text": [
      "              Age       Fever  ThroatInfections  BreathingIssue  \\\n",
      "count  768.000000  768.000000        768.000000      768.000000   \n",
      "mean    33.240885    0.651042          0.651042        0.348958   \n",
      "std     11.760232    0.476951          0.476951        0.476951   \n",
      "min     21.000000    0.000000          0.000000        0.000000   \n",
      "25%     24.000000    0.000000          0.000000        0.000000   \n",
      "50%     29.000000    1.000000          1.000000        0.000000   \n",
      "75%     41.000000    1.000000          1.000000        1.000000   \n",
      "max     81.000000    1.000000          1.000000        1.000000   \n",
      "\n",
      "       BloodPressure     Insulin         BMI  DiabetesPedigreeFunction  \\\n",
      "count     768.000000  768.000000  768.000000                768.000000   \n",
      "mean       69.105469   79.799479   31.992578                  0.471876   \n",
      "std        19.355807  115.244002    7.884160                  0.331329   \n",
      "min         0.000000    0.000000    0.000000                  0.078000   \n",
      "25%        62.000000    0.000000   27.300000                  0.243750   \n",
      "50%        72.000000   30.500000   32.000000                  0.372500   \n",
      "75%        80.000000  127.250000   36.600000                  0.626250   \n",
      "max       122.000000  846.000000   67.100000                  2.420000   \n",
      "\n",
      "           Target  \n",
      "count  768.000000  \n",
      "mean     0.343750  \n",
      "std      0.475268  \n",
      "min      0.000000  \n",
      "25%      0.000000  \n",
      "50%      0.000000  \n",
      "75%      1.000000  \n",
      "max      1.000000  \n"
     ]
    }
   ],
   "source": [
    "#dataset spliting and processing\n",
    "print(dataset.describe())\n",
    "X = dataset.iloc[:, 0:8]\n",
    "y = dataset.iloc[:, 8]"
   ]
  },
  {
   "cell_type": "code",
   "execution_count": 4,
   "metadata": {},
   "outputs": [
    {
     "data": {
      "text/plain": [
       "<matplotlib.axes._subplots.AxesSubplot at 0x23863878a08>"
      ]
     },
     "execution_count": 4,
     "metadata": {},
     "output_type": "execute_result"
    },
    {
     "data": {
      "image/png": "[encoded data removed]",
      "text/plain": [
       "<Figure size 432x288 with 2 Axes>"
      ]
     },
     "metadata": {
      "needs_background": "light"
     },
     "output_type": "display_data"
    }
   ],
   "source": [
    "#view the correlation\n",
    "sns.heatmap(X.corr(), annot = True)"
   ]
  },
  {
   "cell_type": "code",
   "execution_count": 9,
   "metadata": {},
   "outputs": [],
   "source": [
    "#Replace zeros\n",
    "zero_not_accepted = ['BloodPressure', 'BMI', 'Insulin']\n",
    "\n",
    "for column in zero_not_accepted:\n",
    "    X[column] = X[column].replace(0, np.NaN)\n",
    "    mean = int(X[column].mean(skipna=True))\n",
    "    X[column] = X[column].replace(np.NaN, mean)"
   ]
  },
  {
   "cell_type": "code",
   "execution_count": 10,
   "metadata": {},
   "outputs": [
    {
     "name": "stdout",
     "output_type": "stream",
     "text": [
      "   Age  Fever  ThroatInfections  BreathingIssue  BloodPressure  Insulin   BMI  \\\n",
      "0   50    1.0                 0               0           72.0    155.0  33.6   \n",
      "\n",
      "   DiabetesPedigreeFunction  \n",
      "0                     0.627  \n",
      "[ 50.    0.    0.   72.  155.   33.6]\n"
     ]
    }
   ],
   "source": [
    "#Feature Extraction\n",
    "## Var[X] = p(1-p)\n",
    "#sklearn\n",
    "\n",
    "sel = VarianceThreshold(threshold=(.8 * (1 - .8)))\n",
    "X_filtered = sel.fit_transform(X)\n",
    "print(X.head(1))\n",
    "print(X_filtered[0])\n"
   ]
  },
  {
   "cell_type": "code",
   "execution_count": 8,
   "metadata": {},
   "outputs": [
    {
     "name": "stdout",
     "output_type": "stream",
     "text": [
      "   Pregnancies  Glucose  BloodPressure  SkinThickness  Insulin   BMI  Age\n",
      "0            6    148.0           72.0           35.0    155.0  33.6   50\n",
      "1            1     85.0           66.0           29.0    155.0  26.6   31\n",
      "2            8    183.0           64.0           29.0    155.0  23.3   32\n",
      "3            1     89.0           66.0           23.0     94.0  28.1   21\n",
      "4            0    137.0           40.0           35.0    168.0  43.1   33\n",
      "[[  6. 148. 155.  50.]\n",
      " [  1.  85. 155.  31.]\n",
      " [  8. 183. 155.  32.]\n",
      " ...\n",
      " [  5. 121. 112.  30.]\n",
      " [  1. 126. 155.  47.]\n",
      " [  1.  93. 155.  23.]]\n"
     ]
    }
   ],
   "source": [
    "#DiabetesPedigreeFunction was dropped\n",
    "X = X.drop('DiabetesPedigreeFunction', axis=1)\n",
    "top_4_features = SelectKBest(score_func=chi2, k=4)\n",
    "X_top_4_features = top_4_features.fit_transform(X, y)\n",
    "print(X.head())\n",
    "print(X_top_4_features)\n"
   ]
  },
  {
   "cell_type": "code",
   "execution_count": 12,
   "metadata": {},
   "outputs": [],
   "source": [
    "\n",
    "X = X.drop(['Insulin', 'BMI'], axis=1)\n",
    "\n",
    "X_train, X_test, y_train, y_test = train_test_split(X, y, random_state=0, test_size=0.20)"
   ]
  },
  {
   "cell_type": "code",
   "execution_count": 13,
   "metadata": {},
   "outputs": [
    {
     "name": "stdout",
     "output_type": "stream",
     "text": [
      "[[93 16]\n",
      " [32 13]]\n",
      "0.35135135135135137\n",
      "0.6883116883116883\n"
     ]
    }
   ],
   "source": [
    "#Feature Scaling\n",
    "sc_X = StandardScaler()\n",
    "X_train = sc_X.fit_transform(X_train)\n",
    "X_test = sc_X.transform(X_test)\n",
    "\n",
    "classifier = GaussianNB()\n",
    "classifier.fit(X_train, y_train)\n",
    "\n",
    "#Classification\n",
    "y_pred = classifier.predict(X_test)\n",
    "\n",
    "#Evaluation of model\n",
    "cm = confusion_matrix(y_test, y_pred)\n",
    "print (cm)\n",
    "print(f1_score(y_test, y_pred))\n",
    "print(accuracy_score(y_test, y_pred))"
   ]
  }
 ],
 "metadata": {
  "kernelspec": {
   "display_name": "Python 3",
   "language": "python",
   "name": "python3"
  },
  "language_info": {
   "codemirror_mode": {
    "name": "ipython",
    "version": 3
   },
   "file_extension": ".py",
   "mimetype": "text/x-python",
   "name": "python",
   "nbconvert_exporter": "python",
   "pygments_lexer": "ipython3",
   "version": "3.7.4"
  }
 },
 "nbformat": 4,
 "nbformat_minor": 2
}
