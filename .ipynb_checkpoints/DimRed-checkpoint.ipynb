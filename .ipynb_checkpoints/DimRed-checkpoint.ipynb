{
 "cells": [
  {
   "cell_type": "code",
   "execution_count": 6,
   "metadata": {},
   "outputs": [],
   "source": [
    "import pandas as pd\n",
    "import numpy as np\n",
    "\n"
   ]
  },
  {
   "cell_type": "code",
   "execution_count": 7,
   "metadata": {},
   "outputs": [],
   "source": [
    "dataset = pd.read_csv('covid19_patient_data.csv')\n",
    "\n",
    "#no transformation required. All are numerical data i.e., encoded\n",
    "array = dataset.values\n",
    "X = array[:,0:8]\n",
    "Y = array[:,8]"
   ]
  },
  {
   "cell_type": "code",
   "execution_count": 8,
   "metadata": {},
   "outputs": [
    {
     "name": "stdout",
     "output_type": "stream",
     "text": [
      "[[-4.27768745e-03 -7.33034764e-05 -1.10123217e-04 -1.82756980e-04\n",
      "   1.53875247e-02  9.99779249e-01  1.36397820e-02  5.32380242e-04]\n",
      " [-2.15903452e-01  1.00077289e-04  2.79186806e-04  4.07718289e-04\n",
      "  -9.68750092e-01  1.56386620e-02 -1.21094263e-01 -5.62088608e-04]\n",
      " [ 9.75627638e-01 -1.42875721e-03  7.60751554e-04 -2.00534208e-03\n",
      "  -2.09029860e-01  8.29368861e-03 -6.61897625e-02  8.47075759e-04]]\n"
     ]
    }
   ],
   "source": [
    "from sklearn.decomposition import PCA\n",
    "\n",
    "# feature extraction\n",
    "pca = PCA(n_components=3)\n",
    "fit = pca.fit(X)\n",
    "# summarize components\n",
    "\n",
    "print(fit.components_)"
   ]
  },
  {
   "cell_type": "code",
   "execution_count": 12,
   "metadata": {},
   "outputs": [
    {
     "name": "stdout",
     "output_type": "stream",
     "text": [
      "[2.160e+02 6.788e-03 8.658e-02 2.047e+00 1.846e+01 2.334e+03 1.280e+02\n",
      " 5.346e+00]\n",
      "[[ 50.   72.    0.   33.6]\n",
      " [ 31.   66.    0.   26.6]\n",
      " [ 32.   64.    0.   23.3]\n",
      " [ 21.   66.   94.   28.1]\n",
      " [ 33.   40.  168.   43.1]]\n"
     ]
    }
   ],
   "source": [
    "from sklearn.feature_selection import SelectKBest\n",
    "from sklearn.feature_selection import chi2\n",
    "\n",
    "# feature extraction\n",
    "test = SelectKBest(score_func=chi2, k=4)\n",
    "fit = test.fit(X, Y)\n",
    "# summarize scores\n",
    "np.set_printoptions(precision=3)\n",
    "print(fit.scores_)\n",
    "features = fit.transform(X)\n",
    "# summarize selected features\n",
    "print(features[0:5,:])"
   ]
  },
  {
   "cell_type": "code",
   "execution_count": null,
   "metadata": {},
   "outputs": [],
   "source": []
  }
 ],
 "metadata": {
  "kernelspec": {
   "display_name": "Python 3",
   "language": "python",
   "name": "python3"
  },
  "language_info": {
   "codemirror_mode": {
    "name": "ipython",
    "version": 3
   },
   "file_extension": ".py",
   "mimetype": "text/x-python",
   "name": "python",
   "nbconvert_exporter": "python",
   "pygments_lexer": "ipython3",
   "version": "3.7.4"
  }
 },
 "nbformat": 4,
 "nbformat_minor": 2
}
